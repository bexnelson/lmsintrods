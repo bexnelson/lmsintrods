{
  "nbformat": 4,
  "nbformat_minor": 0,
  "metadata": {
    "colab": {
      "name": "TalentLMS Data Science Course.ipynb",
      "version": "0.3.2",
      "provenance": [],
      "collapsed_sections": []
    },
    "kernelspec": {
      "name": "python3",
      "display_name": "Python 3"
    }
  },
  "cells": [
    {
      "cell_type": "markdown",
      "metadata": {
        "id": "rvTGHFbHUCqa",
        "colab_type": "text"
      },
      "source": [
        "##Follow the Section Links to read the TalentLMS content before running code examples"
      ]
    },
    {
      "cell_type": "markdown",
      "metadata": {
        "id": "3sS9baFNCsJ4",
        "colab_type": "text"
      },
      "source": [
        "##[1. Environment Set Up](https://cognite.talentlms.com/unit/view/id:2116)"
      ]
    },
    {
      "cell_type": "markdown",
      "metadata": {
        "id": "Qb8H5WYaDAgF",
        "colab_type": "text"
      },
      "source": [
        "###Install the Cognite SDK package"
      ]
    },
    {
      "cell_type": "code",
      "metadata": {
        "id": "QyOeQPCeDGMV",
        "colab_type": "code",
        "colab": {}
      },
      "source": [
        "!pip install cognite-sdk\n",
        "!pip install --upgrade numpy"
      ],
      "execution_count": 0,
      "outputs": []
    },
    {
      "cell_type": "markdown",
      "metadata": {
        "id": "u8i-1mQDDKhc",
        "colab_type": "text"
      },
      "source": [
        "###Import other required packages"
      ]
    },
    {
      "cell_type": "code",
      "metadata": {
        "id": "-BjwC7qlDQP1",
        "colab_type": "code",
        "colab": {}
      },
      "source": [
        "%matplotlib inline\n",
        "\n",
        "import os\n",
        "from datetime import datetime, timedelta\n",
        "from datetime import datetime\n",
        "from getpass import getpass\n",
        "\n",
        "import numpy as np\n",
        "import pandas as pd\n",
        "import matplotlib.pyplot as plt\n",
        "from sklearn.ensemble import RandomForestRegressor\n",
        "from sklearn.linear_model import LinearRegression\n",
        "from sklearn.metrics import mean_squared_error\n",
        "from sklearn.metrics import r2_score\n",
        "\n",
        "from cognite.client.cognite_client import CogniteClient"
      ],
      "execution_count": 0,
      "outputs": []
    },
    {
      "cell_type": "markdown",
      "metadata": {
        "id": "BFI6c51zEn_y",
        "colab_type": "text"
      },
      "source": [
        "### Connect to Cognite Data Fusion\n",
        "This client object is how all queries will be sent to the Cognite API to retrieve data.\n",
        "\n",
        "When prompted for your API key, use the stored key generated previously in the course."
      ]
    },
    {
      "cell_type": "code",
      "metadata": {
        "id": "j_PcTGjREqN0",
        "colab_type": "code",
        "colab": {}
      },
      "source": [
        "client = CogniteClient(api_key=getpass(\"Open Industrial Data API-KEY: \"))"
      ],
      "execution_count": 0,
      "outputs": []
    },
    {
      "cell_type": "markdown",
      "metadata": {
        "id": "Rg_C7QvUl1Mc",
        "colab_type": "text"
      },
      "source": [
        "##[2. Retrieving Lists of Assets](https://cognite.talentlms.com/unit/view/id:2118)"
      ]
    },
    {
      "cell_type": "markdown",
      "metadata": {
        "id": "Ignb8US7l-Qv",
        "colab_type": "text"
      },
      "source": [
        "###Random Search\n",
        "The *client.assets.get_assets()* actually retrieves the assets, *to_pandas()* creates the Dataframe in Python and *.head()* simply displays the top of the Dataframe. "
      ]
    },
    {
      "cell_type": "code",
      "metadata": {
        "id": "PBd_bxusmJoD",
        "colab_type": "code",
        "outputId": "0da482e9-1e64-4d79-b4f6-305cfea2d4bf",
        "colab": {
          "base_uri": "https://localhost:8080/",
          "height": 164
        }
      },
      "source": [
        "client.assets.get_assets().to_pandas().head()"
      ],
      "execution_count": 0,
      "outputs": [
        {
          "output_type": "error",
          "ename": "NameError",
          "evalue": "ignored",
          "traceback": [
            "\u001b[0;31m---------------------------------------------------------------------------\u001b[0m",
            "\u001b[0;31mNameError\u001b[0m                                 Traceback (most recent call last)",
            "\u001b[0;32m<ipython-input-1-884abdeed263>\u001b[0m in \u001b[0;36m<module>\u001b[0;34m()\u001b[0m\n\u001b[0;32m----> 1\u001b[0;31m \u001b[0mclient\u001b[0m\u001b[0;34m.\u001b[0m\u001b[0massets\u001b[0m\u001b[0;34m.\u001b[0m\u001b[0mget_assets\u001b[0m\u001b[0;34m(\u001b[0m\u001b[0;34m)\u001b[0m\u001b[0;34m.\u001b[0m\u001b[0mto_pandas\u001b[0m\u001b[0;34m(\u001b[0m\u001b[0;34m)\u001b[0m\u001b[0;34m.\u001b[0m\u001b[0mhead\u001b[0m\u001b[0;34m(\u001b[0m\u001b[0;34m)\u001b[0m\u001b[0;34m\u001b[0m\u001b[0;34m\u001b[0m\u001b[0m\n\u001b[0m",
            "\u001b[0;31mNameError\u001b[0m: name 'client' is not defined"
          ]
        }
      ]
    },
    {
      "cell_type": "markdown",
      "metadata": {
        "id": "iGzlTbUJmB8Z",
        "colab_type": "text"
      },
      "source": [
        "###Fuzzy Search"
      ]
    },
    {
      "cell_type": "code",
      "metadata": {
        "id": "JXZ4_aIhmLjd",
        "colab_type": "code",
        "colab": {}
      },
      "source": [
        "asset_name = \"23-HA-9103\"\n",
        "asset_df = client.assets.search_for_assets(name=asset_name).to_pandas()\n",
        "asset_df.head()"
      ],
      "execution_count": 0,
      "outputs": []
    },
    {
      "cell_type": "markdown",
      "metadata": {
        "id": "TP1FgfPVmDMk",
        "colab_type": "text"
      },
      "source": [
        "###Specific Search\n",
        "The _get_asset()_ interface provides the same information for one specific asset based on the provided ID"
      ]
    },
    {
      "cell_type": "code",
      "metadata": {
        "id": "EVpjB6N9mN7U",
        "colab_type": "code",
        "colab": {}
      },
      "source": [
        "asset_id = asset_df[asset_df[\"name\"] == asset_name].iloc[0]['id']\n",
        "asset = client.assets.get_asset(asset_id=asset_id).to_pandas()\n",
        "asset"
      ],
      "execution_count": 0,
      "outputs": []
    },
    {
      "cell_type": "markdown",
      "metadata": {
        "id": "kOi5l9ArnH1c",
        "colab_type": "text"
      },
      "source": [
        "##[3. Asset Hierarchy and Relationships](https://cognite.talentlms.com/unit/view/id:2124)"
      ]
    },
    {
      "cell_type": "markdown",
      "metadata": {
        "id": "yQbT4KIFnLBq",
        "colab_type": "text"
      },
      "source": [
        "We will generate a list of all children of the main asset of interest. This is done by specifying a depth of 1."
      ]
    },
    {
      "cell_type": "code",
      "metadata": {
        "id": "3aOeBcKYnRLE",
        "colab_type": "code",
        "colab": {}
      },
      "source": [
        "subtree_df = client.assets.get_asset_subtree(asset_id=asset_id, depth=1).to_pandas()\n",
        "subtree_df.head()"
      ],
      "execution_count": 0,
      "outputs": []
    },
    {
      "cell_type": "markdown",
      "metadata": {
        "id": "LIyYdejlnUtT",
        "colab_type": "text"
      },
      "source": [
        "##[4. Collecting Time Series Data](https://cognite.talentlms.com/unit/view/id:2119)"
      ]
    },
    {
      "cell_type": "markdown",
      "metadata": {
        "id": "Qt6Dcdn1rRS4",
        "colab_type": "text"
      },
      "source": [
        "###Compile a list of time series objects under the asset\n",
        "For each of the children assets, we get the associated time series objects and merge them into a DataFrame"
      ]
    },
    {
      "cell_type": "code",
      "metadata": {
        "id": "tOx8h90ArYY2",
        "colab_type": "code",
        "colab": {}
      },
      "source": [
        "all_timeseries = client.time_series.get_time_series().to_pandas()\n",
        "print(len(all_timeseries))\n",
        "all_timeseries.head()"
      ],
      "execution_count": 0,
      "outputs": []
    },
    {
      "cell_type": "markdown",
      "metadata": {
        "id": "qllkrh6Dtp7R",
        "colab_type": "text"
      },
      "source": [
        "If you are curious about which asset a time series is attached to, you can retrieve more information of the asset by:"
      ]
    },
    {
      "cell_type": "code",
      "metadata": {
        "id": "0afqCmxDtsAf",
        "colab_type": "code",
        "colab": {}
      },
      "source": [
        "client.assets.get_asset(asset_id=2853212781345885).to_pandas()"
      ],
      "execution_count": 0,
      "outputs": []
    },
    {
      "cell_type": "markdown",
      "metadata": {
        "id": "SdRhnDi-sN_9",
        "colab_type": "text"
      },
      "source": [
        "###View datapoints for specific time series\n",
        "The identifier to retrieve Datapoints is the name column from the DataFrame above."
      ]
    },
    {
      "cell_type": "code",
      "metadata": {
        "id": "DNXndZpjsXzS",
        "colab_type": "code",
        "colab": {}
      },
      "source": [
        "client.datapoints.get_datapoints(\"VAL_45-PT-92508:X.Value\", start=\"10d-ago\").to_pandas().head()"
      ],
      "execution_count": 0,
      "outputs": []
    },
    {
      "cell_type": "markdown",
      "metadata": {
        "id": "LnWqcSkLt5hq",
        "colab_type": "text"
      },
      "source": [
        "##[5. Use Cases of CDF Data](https://cognite.talentlms.com/unit/view/id:2120)"
      ]
    },
    {
      "cell_type": "markdown",
      "metadata": {
        "id": "dwpidXxYKoAl",
        "colab_type": "text"
      },
      "source": [
        "###Collect datapoints from CDF\n",
        "The time series names are defined in the in_ts_names and out_ts_names lists below."
      ]
    },
    {
      "cell_type": "code",
      "metadata": {
        "id": "xV1as0KyKrY8",
        "colab_type": "code",
        "colab": {}
      },
      "source": [
        "in_ts_names = [\"VAL_23-FT-92512:X.Value\", \"VAL_23-PT-92512:X.Value\", \"VAL_23-TT-92502:X.Value\"]\n",
        "out_ts_name = \"VAL_23-PT-92504:X.Value\""
      ],
      "execution_count": 0,
      "outputs": []
    },
    {
      "cell_type": "markdown",
      "metadata": {
        "id": "TpqB2BA8Kw_T",
        "colab_type": "text"
      },
      "source": [
        "###Retrieve Data Points from CDF\n"
      ]
    },
    {
      "cell_type": "code",
      "metadata": {
        "id": "1YPfwelZK4z5",
        "colab_type": "code",
        "colab": {}
      },
      "source": [
        "ts_names = in_ts_names + [out_ts_name]\n",
        "\n",
        "train_start_date = datetime(2018, 8, 1)\n",
        "# 30 days of training data chosen arbitrarily\n",
        "train_end_date = train_start_date + timedelta(days=30)\n",
        "\n",
        "datapoints_df = client.datapoints.get_datapoints_frame(time_series=ts_names,\n",
        "                                                       aggregates=['avg'],\n",
        "                                                       granularity='1m',\n",
        "                                                       start=train_start_date,\n",
        "                                                       end=train_end_date\n",
        "                                                       )\n",
        "datapoints_df.fillna(method=\"ffill\", inplace = True)\n",
        "datapoints_df.head()"
      ],
      "execution_count": 0,
      "outputs": []
    },
    {
      "cell_type": "code",
      "metadata": {
        "id": "kJ04Pm9VE-nK",
        "colab_type": "code",
        "colab": {}
      },
      "source": [
        "datapoints_df.isna().any()"
      ],
      "execution_count": 0,
      "outputs": []
    },
    {
      "cell_type": "code",
      "metadata": {
        "id": "PKKGil08E_Ee",
        "colab_type": "code",
        "colab": {}
      },
      "source": [
        "# Remove \"|average\"\n",
        "datapoints_df.rename(columns=lambda x: x[:-8] if x != \"timestamp\" else x, inplace=True)\n",
        "datapoints_df.head()"
      ],
      "execution_count": 0,
      "outputs": []
    },
    {
      "cell_type": "markdown",
      "metadata": {
        "id": "xPO2NqAjGKIs",
        "colab_type": "text"
      },
      "source": [
        "###Visualize the Time Series Data\n",
        "The bottom right plot is the output time series, while the other 3 are the inputs used to create an estimate for the output."
      ]
    },
    {
      "cell_type": "code",
      "metadata": {
        "id": "3JeUAYk2GRRg",
        "colab_type": "code",
        "colab": {}
      },
      "source": [
        "cols = list(datapoints_df.columns)\n",
        "cols.remove('timestamp')\n",
        "\n",
        "fig, axes = plt.subplots(nrows=2, ncols=2, figsize=(10,10))\n",
        "for i, col in enumerate(cols):\n",
        "    datapoints_df.plot(x='timestamp', y=col, ax=axes[int(i>1), i%2]);"
      ],
      "execution_count": 0,
      "outputs": []
    },
    {
      "cell_type": "markdown",
      "metadata": {
        "id": "9Pw7vLl1GWRY",
        "colab_type": "text"
      },
      "source": [
        "##[6. Model Creation](https://cognite.talentlms.com/unit/view/id:2121)"
      ]
    },
    {
      "cell_type": "markdown",
      "metadata": {
        "id": "P96_RImyHkfH",
        "colab_type": "text"
      },
      "source": [
        "###Gathering Training Data"
      ]
    },
    {
      "cell_type": "code",
      "metadata": {
        "id": "Mwx4QhRFJ9fS",
        "colab_type": "code",
        "colab": {}
      },
      "source": [
        "train_X = datapoints_df[in_ts_names].values\n",
        "train_y = datapoints_df[out_ts_name].values"
      ],
      "execution_count": 0,
      "outputs": []
    },
    {
      "cell_type": "markdown",
      "metadata": {
        "id": "YqWNjD3SKC-0",
        "colab_type": "text"
      },
      "source": [
        "###Get a seperate DataFrame from CDF\n",
        "The data which we will use to predict the output pressure will be stored in a seperate dataframe as collected below."
      ]
    },
    {
      "cell_type": "code",
      "metadata": {
        "id": "UXZHa95kKHcG",
        "colab_type": "code",
        "colab": {}
      },
      "source": [
        "predict_start_date = train_end_date\n",
        "# Make the prediction on 1 hour of data\n",
        "predict_end_date = train_end_date + timedelta(hours=1)\n",
        "\n",
        "predict_df = client.datapoints.get_datapoints_frame(time_series=ts_names,\n",
        "                                                       aggregates=['avg'],\n",
        "                                                       granularity='1m',\n",
        "                                                       start=predict_start_date,\n",
        "                                                       end=predict_end_date\n",
        "                                                       )\n",
        "predict_df.fillna(method=\"ffill\", inplace =True)\n",
        "# Remove \"|average\"\n",
        "predict_df.rename(columns=lambda x: x[:-8] if x != \"timestamp\" else x, inplace=True)\n",
        "predict_df.head()"
      ],
      "execution_count": 0,
      "outputs": []
    },
    {
      "cell_type": "code",
      "metadata": {
        "id": "B0t9HzSYKJ94",
        "colab_type": "code",
        "colab": {}
      },
      "source": [
        "cols = list(predict_df.columns)\n",
        "cols.remove('timestamp')\n",
        "\n",
        "fig, axes = plt.subplots(nrows=2, ncols=2, figsize=(10,10))\n",
        "for i, col in enumerate(cols):\n",
        "    predict_df.plot(x='timestamp', y=col, ax=axes[int(i>1), i%2]);"
      ],
      "execution_count": 0,
      "outputs": []
    },
    {
      "cell_type": "markdown",
      "metadata": {
        "id": "LXJnaXAIKMzk",
        "colab_type": "text"
      },
      "source": [
        "##[7. Linear Regression Model](https://cognite.talentlms.com/unit/view/id:2122)\n",
        "As a simple starting point we will check to see how a linear regression model performs to predict the output pressure"
      ]
    },
    {
      "cell_type": "markdown",
      "metadata": {
        "id": "-iDDP5hNKUHk",
        "colab_type": "text"
      },
      "source": [
        "###Utilize sklearn to create a basic linear regression model\n",
        "Sklearn is common package utilized to import and deploy data science models. Linear Regression is only one of many options for constructing models."
      ]
    },
    {
      "cell_type": "code",
      "metadata": {
        "id": "2Cdr9BNUKdAA",
        "colab_type": "code",
        "colab": {}
      },
      "source": [
        "lin_reg = LinearRegression()\n",
        "lin_reg.fit(train_X, train_y)\n",
        "\n",
        "X = predict_df[in_ts_names].values\n",
        "predict_df[\"prediction_lin_reg1\"] = lin_reg.predict(X)\n",
        "\n",
        "# print out mse of the prediction\n",
        "mse = mean_squared_error(predict_df[out_ts_name], predict_df[\"prediction_lin_reg1\"])\n",
        "r2_s = r2_score(predict_df[out_ts_name], predict_df[\"prediction_lin_reg1\"])\n",
        "print('The Mean Squared Error of our forecasts is {}'.format(round(mse, 4)))\n",
        "print('The R2 score of our forecasts is {}'.format(round(r2_s, 4)))\n",
        "\n",
        "predict_df.plot(x=\"timestamp\", y=[out_ts_name, \"prediction_lin_reg1\"], figsize=(10,10));"
      ],
      "execution_count": 0,
      "outputs": []
    },
    {
      "cell_type": "markdown",
      "metadata": {
        "id": "PTQCGG7fKfG_",
        "colab_type": "text"
      },
      "source": [
        "###Look at the fit for the training data"
      ]
    },
    {
      "cell_type": "code",
      "metadata": {
        "id": "ofxaIfbmKiSy",
        "colab_type": "code",
        "colab": {}
      },
      "source": [
        "lin_reg = LinearRegression()\n",
        "lin_reg.fit(train_X, train_y)\n",
        "\n",
        "X = datapoints_df[in_ts_names].values\n",
        "datapoints_df[\"prediction_lin_reg1\"] = lin_reg.predict(X)\n",
        "\n",
        "# print out mse of the prediction\n",
        "mse = mean_squared_error(predict_df[out_ts_name], predict_df[\"prediction_lin_reg1\"])\n",
        "r2_s = r2_score(predict_df[out_ts_name], predict_df[\"prediction_lin_reg1\"])\n",
        "print('The Mean Squared Error on the training data is {}'.format(round(mse, 4)))\n",
        "print('The R2 score of our training data is {}'.format(round(r2_s, 4)))\n",
        "\n",
        "datapoints_df.plot(x=\"timestamp\", y=[out_ts_name, \"prediction_lin_reg1\"], figsize=(10,10));"
      ],
      "execution_count": 0,
      "outputs": []
    },
    {
      "cell_type": "markdown",
      "metadata": {
        "id": "g-rzXGUzYcRo",
        "colab_type": "text"
      },
      "source": [
        "###Add dummy variable for anomalous period"
      ]
    },
    {
      "cell_type": "code",
      "metadata": {
        "id": "1ukJfdNjYgYS",
        "colab_type": "code",
        "colab": {}
      },
      "source": [
        "datapoints_df['state'] = (datapoints_df[out_ts_name]< 4)*1\n",
        "predict_df['state'] = (predict_df[out_ts_name]< 4)*1"
      ],
      "execution_count": 0,
      "outputs": []
    },
    {
      "cell_type": "code",
      "metadata": {
        "id": "m83vWycgYh_P",
        "colab_type": "code",
        "colab": {}
      },
      "source": [
        "train_X2 = datapoints_df[in_ts_names + ['state']].values\n",
        "\n",
        "lin_reg = LinearRegression()\n",
        "lin_reg.fit(train_X2, train_y)\n",
        "\n",
        "X = predict_df[in_ts_names + ['state']].values\n",
        "predict_df[\"prediction_lin_reg2\"] = lin_reg.predict(X)\n",
        "\n",
        "# print out mse of the prediction\n",
        "mse = mean_squared_error(predict_df[out_ts_name], predict_df[\"prediction_lin_reg2\"])\n",
        "r2_s = r2_score(predict_df[out_ts_name], predict_df[\"prediction_lin_reg2\"])\n",
        "print('The Mean Squared Error of our forecasts is {}'.format(round(mse, 4)))\n",
        "print('The R2 score of our forecasts is {}'.format(round(r2_s, 4)))\n",
        "\n",
        "predict_df.plot(x=\"timestamp\", y=[out_ts_name, \"prediction_lin_reg2\"], figsize=(10,10));"
      ],
      "execution_count": 0,
      "outputs": []
    },
    {
      "cell_type": "markdown",
      "metadata": {
        "id": "yZAe_bULYkXb",
        "colab_type": "text"
      },
      "source": [
        "###Look at the fit for the training data"
      ]
    },
    {
      "cell_type": "code",
      "metadata": {
        "id": "i5enFBX2YnT4",
        "colab_type": "code",
        "colab": {}
      },
      "source": [
        "lin_reg = LinearRegression()\n",
        "lin_reg.fit(train_X2, train_y)\n",
        "\n",
        "X = datapoints_df[in_ts_names + ['state']].values\n",
        "datapoints_df[\"prediction_lin_reg2\"] = lin_reg.predict(X)\n",
        "\n",
        "# print out mse of the prediction\n",
        "mse = mean_squared_error(datapoints_df[out_ts_name], datapoints_df[\"prediction_lin_reg2\"])\n",
        "r2_s = r2_score(datapoints_df[out_ts_name], datapoints_df[\"prediction_lin_reg2\"])\n",
        "print('The Mean Squared Error on the training data is {}'.format(round(mse, 4)))\n",
        "print('The R2 score of our training data is {}'.format(round(r2_s, 4)))\n",
        "\n",
        "datapoints_df.plot(x=\"timestamp\", y=[out_ts_name, \"prediction_lin_reg2\"], figsize=(10,10));"
      ],
      "execution_count": 0,
      "outputs": []
    },
    {
      "cell_type": "markdown",
      "metadata": {
        "id": "PNwbnrwuYulj",
        "colab_type": "text"
      },
      "source": [
        "###Remove Outliers"
      ]
    },
    {
      "cell_type": "code",
      "metadata": {
        "id": "RZs5n82aYwR-",
        "colab_type": "code",
        "colab": {}
      },
      "source": [
        "quantiles = [0.95, 0.975, 0.98, 0.99]\n",
        "quantiles_df = pd.DataFrame([np.array(quantiles), np.quantile(datapoints_df[out_ts_name], q=quantiles)]).T\n",
        "quantiles_df.columns = ['quantile', 'value']\n",
        "quantiles_df"
      ],
      "execution_count": 0,
      "outputs": []
    },
    {
      "cell_type": "code",
      "metadata": {
        "id": "nL0kT_ItYx0O",
        "colab_type": "code",
        "colab": {}
      },
      "source": [
        "datapoints_df_adj = datapoints_df.loc[datapoints_df[out_ts_name]< 4,:]\n"
      ],
      "execution_count": 0,
      "outputs": []
    },
    {
      "cell_type": "code",
      "metadata": {
        "id": "xHs_K3xnYzFR",
        "colab_type": "code",
        "colab": {}
      },
      "source": [
        "train_X_adj = datapoints_df_adj[in_ts_names].values\n",
        "train_y_adj = datapoints_df_adj[out_ts_name].values"
      ],
      "execution_count": 0,
      "outputs": []
    },
    {
      "cell_type": "code",
      "metadata": {
        "id": "j-EgHb7DY0ev",
        "colab_type": "code",
        "colab": {}
      },
      "source": [
        "lin_reg = LinearRegression()\n",
        "lin_reg.fit(train_X_adj, train_y_adj)\n",
        "\n",
        "X = predict_df[in_ts_names].values\n",
        "predict_df[\"prediction_lin_reg3\"] = lin_reg.predict(X)\n",
        "\n",
        "# print out mse of the prediction\n",
        "mse = mean_squared_error(predict_df[out_ts_name], predict_df[\"prediction_lin_reg3\"])\n",
        "r2_s = r2_score(predict_df[out_ts_name], predict_df[\"prediction_lin_reg3\"])\n",
        "print('The Mean Squared Error of our forecasts is {}'.format(round(mse, 4)))\n",
        "print('The R2 score of our forecasts is {}'.format(round(r2_s, 4)))\n",
        "\n",
        "predict_df.plot(x=\"timestamp\", y=[out_ts_name, \"prediction_lin_reg3\"], figsize=(10,10));"
      ],
      "execution_count": 0,
      "outputs": []
    },
    {
      "cell_type": "markdown",
      "metadata": {
        "id": "RFhTEgRgY3Gb",
        "colab_type": "text"
      },
      "source": [
        "###Look at the fit for the training data"
      ]
    },
    {
      "cell_type": "code",
      "metadata": {
        "id": "q16y0WLlY6vJ",
        "colab_type": "code",
        "colab": {}
      },
      "source": [
        "lin_reg = LinearRegression()\n",
        "lin_reg.fit(train_X_adj, train_y_adj)\n",
        "\n",
        "X = datapoints_df[in_ts_names].values\n",
        "datapoints_df[\"prediction_lin_reg3\"] = lin_reg.predict(X)\n",
        "\n",
        "# print out mse of the prediction\n",
        "mse = mean_squared_error(datapoints_df[out_ts_name], datapoints_df[\"prediction_lin_reg3\"])\n",
        "r2_s = r2_score(datapoints_df[out_ts_name], datapoints_df[\"prediction_lin_reg3\"])\n",
        "print('The Mean Squared Error on the training data is {}'.format(round(mse, 4)))\n",
        "print('The R2 score of our training data is {}'.format(round(r2_s, 4)))\n",
        "\n",
        "datapoints_df.plot(x=\"timestamp\", y=[out_ts_name, \"prediction_lin_reg3\"], figsize=(10,10));"
      ],
      "execution_count": 0,
      "outputs": []
    },
    {
      "cell_type": "markdown",
      "metadata": {
        "id": "IeKYxrlnZEn9",
        "colab_type": "text"
      },
      "source": [
        "##[8. Random Forest Ensemble Model](https://cognite.talentlms.com/unit/view/id:2123)"
      ]
    },
    {
      "cell_type": "code",
      "metadata": {
        "id": "2DaX9X8jZKkh",
        "colab_type": "code",
        "colab": {}
      },
      "source": [
        "rnd_forest_reg = RandomForestRegressor(n_estimators=10, min_samples_split=20, max_depth=5)\n",
        "rnd_forest_reg.fit(train_X, train_y)\n",
        "\n",
        "X = predict_df[in_ts_names].values\n",
        "predict_df[\"prediction_rnd_forest\"] = rnd_forest_reg.predict(X)\n",
        "\n",
        "# print out mse of the prediction\n",
        "mse = mean_squared_error(predict_df[out_ts_name], predict_df[\"prediction_rnd_forest\"])\n",
        "r2_s = r2_score(predict_df[out_ts_name], predict_df[\"prediction_rnd_forest\"])\n",
        "print('The Mean Squared Error of our forecasts is {}'.format(round(mse, 4)))\n",
        "print('The R2 score of our forecasts is {}'.format(round(r2_s, 4)))\n",
        "\n",
        "predict_df.plot(x=\"timestamp\", y=[out_ts_name, \"prediction_rnd_forest\"], figsize=(10,10));"
      ],
      "execution_count": 0,
      "outputs": []
    },
    {
      "cell_type": "code",
      "metadata": {
        "id": "WUiShm2tZOCj",
        "colab_type": "code",
        "colab": {}
      },
      "source": [
        "rnd_forest_reg = RandomForestRegressor(n_estimators=10, min_samples_split=20, max_depth=5)\n",
        "rnd_forest_reg.fit(train_X, train_y)\n",
        "\n",
        "X = datapoints_df[in_ts_names].values\n",
        "datapoints_df[\"prediction_rnd_forest\"] = rnd_forest_reg.predict(X)\n",
        "\n",
        "datapoints_df.plot(x=\"timestamp\", y=[out_ts_name, \"prediction_rnd_forest\"], figsize=(10,10));"
      ],
      "execution_count": 0,
      "outputs": []
    },
    {
      "cell_type": "markdown",
      "metadata": {
        "id": "yZEEbTAmZTE8",
        "colab_type": "text"
      },
      "source": [
        "###Anomaly Detection"
      ]
    },
    {
      "cell_type": "code",
      "metadata": {
        "id": "DnYUwca4ZW15",
        "colab_type": "code",
        "colab": {}
      },
      "source": [
        "#Train up until 100 timestamps before anomalous period\n",
        "predict_start_index = min(datapoints_df[datapoints_df[out_ts_name]> 5].index)-100\n",
        "\n",
        "datapoints_df_ad = datapoints_df.loc[:predict_start_index, :]\n",
        "train_X = datapoints_df_ad[in_ts_names].values\n",
        "train_y = datapoints_df_ad[out_ts_name].values\n",
        "\n",
        "predict_df_ad = datapoints_df.loc[predict_start_index+1:, in_ts_names + [out_ts_name, \"timestamp\"]]"
      ],
      "execution_count": 0,
      "outputs": []
    },
    {
      "cell_type": "code",
      "metadata": {
        "id": "ewEXv31bZYrI",
        "colab_type": "code",
        "colab": {}
      },
      "source": [
        "plt.figure(figsize=(10,10))\n",
        "plt.plot(datapoints_df_ad[\"timestamp\"], datapoints_df_ad[out_ts_name], label=\"train\")\n",
        "plt.plot(predict_df_ad[\"timestamp\"], predict_df_ad[out_ts_name], label=\"predict\")\n",
        "plt.legend()\n",
        "plt.xlabel(\"timestamp\")\n",
        "plt.title(out_ts_name)"
      ],
      "execution_count": 0,
      "outputs": []
    },
    {
      "cell_type": "code",
      "metadata": {
        "id": "CuKSwc5rZbcn",
        "colab_type": "code",
        "colab": {}
      },
      "source": [
        "rnd_forest_reg = RandomForestRegressor(n_estimators=10, min_samples_split=20, max_depth=5)\n",
        "rnd_forest_reg.fit(train_X, train_y)\n",
        "\n",
        "X = predict_df_ad[in_ts_names].values\n",
        "predict_df_ad[\"prediction_rnd_forest\"] = rnd_forest_reg.predict(X)\n",
        "predict_df_ad[\"residual\"] = np.abs(predict_df_ad[\"prediction_rnd_forest\"]-predict_df_ad[out_ts_name])"
      ],
      "execution_count": 0,
      "outputs": []
    },
    {
      "cell_type": "code",
      "metadata": {
        "id": "_RjYmdL0ZdCR",
        "colab_type": "code",
        "colab": {}
      },
      "source": [
        "f, (ax1, ax2) = plt.subplots(1, 2, figsize=(15,15))\n",
        "predict_df_ad.plot(x=\"timestamp\", y=[out_ts_name, \"prediction_rnd_forest\"], figsize=(12,7), ax=ax1, \n",
        "                color=[\"C1\", \"C2\"]);\n",
        "predict_df_ad.plot(x=\"timestamp\", y=[\"residual\"], figsize=(12,7), ax=ax2, color=\"C3\");"
      ],
      "execution_count": 0,
      "outputs": []
    }
  ]
}